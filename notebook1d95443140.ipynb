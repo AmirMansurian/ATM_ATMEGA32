{
 "cells": [
  {
   "cell_type": "code",
   "execution_count": 1,
   "id": "9d445776",
   "metadata": {
    "_cell_guid": "b1076dfc-b9ad-4769-8c92-a6c4dae69d19",
    "_uuid": "8f2839f25d086af736a60e9eeb907d3b93b6e0e5",
    "execution": {
     "iopub.execute_input": "2022-05-16T11:02:39.000691Z",
     "iopub.status.busy": "2022-05-16T11:02:39.000209Z",
     "iopub.status.idle": "2022-05-16T11:02:39.782964Z",
     "shell.execute_reply": "2022-05-16T11:02:39.782222Z"
    },
    "papermill": {
     "duration": 0.793299,
     "end_time": "2022-05-16T11:02:39.785358",
     "exception": false,
     "start_time": "2022-05-16T11:02:38.992059",
     "status": "completed"
    },
    "tags": []
   },
   "outputs": [
    {
     "name": "stdout",
     "output_type": "stream",
     "text": [
      "__notebook__.ipynb\r\n"
     ]
    }
   ],
   "source": [
    "!ls"
   ]
  },
  {
   "cell_type": "code",
   "execution_count": 2,
   "id": "7857e1d6",
   "metadata": {
    "execution": {
     "iopub.execute_input": "2022-05-16T11:02:39.798017Z",
     "iopub.status.busy": "2022-05-16T11:02:39.797721Z",
     "iopub.status.idle": "2022-05-16T11:02:41.086983Z",
     "shell.execute_reply": "2022-05-16T11:02:41.086109Z"
    },
    "papermill": {
     "duration": 1.298359,
     "end_time": "2022-05-16T11:02:41.089426",
     "exception": false,
     "start_time": "2022-05-16T11:02:39.791067",
     "status": "completed"
    },
    "tags": []
   },
   "outputs": [
    {
     "name": "stdout",
     "output_type": "stream",
     "text": [
      "--2022-05-16 11:02:40--  https://doc-00-a4-slides.googleusercontent.com/export/g8f2kdcbkkrc0vbplof9f71sic/a3lil68nu0mdkmtp76ur858rq8/1652698830000/110999569461481074685/110999569461481074685/10-UpWjmitk3Fbkz6JCeZ8ugAwCy8GpRqJJdh_78pcYk?exportFormat=pptx&dat=AO9BBxwmHnJ_KeuQeaOSMX7r6osO-c8oBstRdeYYWMv4RGzun2VILGiW3q7fC5dmZJUbGf_XaQru1NxCoLfwOqn2FuhpjdDpUQtGoyVdG_reUdplK6vMGAooaUmW1DgwJsHL1ChrjS0M9B3gYmjTOvu30qeWgM3Brn3NKA82eqN5ZHY5KFxTQ5V1EbaFz0eGXNb5dleBuSY5uYGPS2ymmCAVIqD0PthYaDAc0Bgvz02pqmBmOLYVHkP5xXOCCC5BBDgCKzGu52GBsqUIVL3FEzfJtI4g3MetRNm-tCIlwQbPBcCKEFKicuCXKhsqRR3CdVO2Mo3LNSPmC4h3of7gNjH4yQimZYkflo4Ur15fHlieE0V1zQSD8wRs85FWkKHXEZL8JX-hcvdSnox9TWnuVcS2Zz8-ZcsfhpC_WJeshPlJL5VA-7sYO1xbA8yW7cxkrEEMrJjNBakbZld_nt9fLV2XIn989OelhWNIejX869ZXEaOQJhC3lZ2_4mzjCUf7kaEw7lCNc9hMEW6X_eaCriCp3Xxue1xkyF4k5bGyq8OKnk_ui_waACfsch4ZsMHmhSN_p__zk75KfbhRswk2fFJPTxaX3OOvByWsLMMQ_3c5lu16-EsOIPN1NFKaf9ltj-PHx1TSGpVW73MI17flXI-3El3G0avji5x47Wv2YvEZJ3mq_BzbhzuadTh6Yn20hDP7HYHQhtAEmWwutnIhnEABHIwwEYazinfwe5ZdE6pZmnPPK9IWkeZ48lBqtEnJR_WlgX4kB4WyrOCL8u_jv7evwgvxkj_8WR0Cuw\r\n",
      "Resolving doc-00-a4-slides.googleusercontent.com (doc-00-a4-slides.googleusercontent.com)... 173.194.218.132, 2607:f8b0:400c:c14::84\r\n",
      "Connecting to doc-00-a4-slides.googleusercontent.com (doc-00-a4-slides.googleusercontent.com)|173.194.218.132|:443... connected.\r\n",
      "HTTP request sent, awaiting response... 400 Bad Request\r\n",
      "2022-05-16 11:02:40 ERROR 400: Bad Request.\r\n",
      "\r\n"
     ]
    }
   ],
   "source": [
    "!wget --header=\"Host: doc-00-a4-slides.googleusercontent.com\" --header=\"User-Agent: Mozilla/5.0 (Windows NT 10.0; Win64; x64) AppleWebKit/537.36 (KHTML, like Gecko) Chrome/101.0.4951.54 Safari/537.36\" --header=\"Accept: text/html,application/xhtml+xml,application/xml;q=0.9,image/avif,image/webp,image/apng,*/*;q=0.8,application/signed-exchange;v=b3;q=0.9\" --header=\"Accept-Language: en-US,en;q=0.9,fa-IR;q=0.8,fa;q=0.7,en-GB;q=0.6\" \"https://doc-00-a4-slides.googleusercontent.com/export/g8f2kdcbkkrc0vbplof9f71sic/a3lil68nu0mdkmtp76ur858rq8/1652698830000/110999569461481074685/110999569461481074685/10-UpWjmitk3Fbkz6JCeZ8ugAwCy8GpRqJJdh_78pcYk?exportFormat=pptx&dat=AO9BBxwmHnJ_KeuQeaOSMX7r6osO-c8oBstRdeYYWMv4RGzun2VILGiW3q7fC5dmZJUbGf_XaQru1NxCoLfwOqn2FuhpjdDpUQtGoyVdG_reUdplK6vMGAooaUmW1DgwJsHL1ChrjS0M9B3gYmjTOvu30qeWgM3Brn3NKA82eqN5ZHY5KFxTQ5V1EbaFz0eGXNb5dleBuSY5uYGPS2ymmCAVIqD0PthYaDAc0Bgvz02pqmBmOLYVHkP5xXOCCC5BBDgCKzGu52GBsqUIVL3FEzfJtI4g3MetRNm-tCIlwQbPBcCKEFKicuCXKhsqRR3CdVO2Mo3LNSPmC4h3of7gNjH4yQimZYkflo4Ur15fHlieE0V1zQSD8wRs85FWkKHXEZL8JX-hcvdSnox9TWnuVcS2Zz8-ZcsfhpC_WJeshPlJL5VA-7sYO1xbA8yW7cxkrEEMrJjNBakbZld_nt9fLV2XIn989OelhWNIejX869ZXEaOQJhC3lZ2_4mzjCUf7kaEw7lCNc9hMEW6X_eaCriCp3Xxue1xkyF4k5bGyq8OKnk_ui_waACfsch4ZsMHmhSN_p__zk75KfbhRswk2fFJPTxaX3OOvByWsLMMQ_3c5lu16-EsOIPN1NFKaf9ltj-PHx1TSGpVW73MI17flXI-3El3G0avji5x47Wv2YvEZJ3mq_BzbhzuadTh6Yn20hDP7HYHQhtAEmWwutnIhnEABHIwwEYazinfwe5ZdE6pZmnPPK9IWkeZ48lBqtEnJR_WlgX4kB4WyrOCL8u_jv7evwgvxkj_8WR0Cuw\" -c -O 'ACV.pptx'"
   ]
  },
  {
   "cell_type": "code",
   "execution_count": null,
   "id": "c63380ce",
   "metadata": {
    "execution": {
     "iopub.execute_input": "2022-05-16T11:01:05.436980Z",
     "iopub.status.busy": "2022-05-16T11:01:05.436588Z",
     "iopub.status.idle": "2022-05-16T11:01:06.195476Z",
     "shell.execute_reply": "2022-05-16T11:01:06.194668Z",
     "shell.execute_reply.started": "2022-05-16T11:01:05.436947Z"
    },
    "papermill": {
     "duration": 0.006199,
     "end_time": "2022-05-16T11:02:41.102291",
     "exception": false,
     "start_time": "2022-05-16T11:02:41.096092",
     "status": "completed"
    },
    "tags": []
   },
   "outputs": [],
   "source": []
  }
 ],
 "metadata": {
  "kernelspec": {
   "display_name": "Python 3",
   "language": "python",
   "name": "python3"
  },
  "language_info": {
   "codemirror_mode": {
    "name": "ipython",
    "version": 3
   },
   "file_extension": ".py",
   "mimetype": "text/x-python",
   "name": "python",
   "nbconvert_exporter": "python",
   "pygments_lexer": "ipython3",
   "version": "3.7.12"
  },
  "papermill": {
   "default_parameters": {},
   "duration": 12.305159,
   "end_time": "2022-05-16T11:02:41.829470",
   "environment_variables": {},
   "exception": null,
   "input_path": "__notebook__.ipynb",
   "output_path": "__notebook__.ipynb",
   "parameters": {},
   "start_time": "2022-05-16T11:02:29.524311",
   "version": "2.3.4"
  }
 },
 "nbformat": 4,
 "nbformat_minor": 5
}
